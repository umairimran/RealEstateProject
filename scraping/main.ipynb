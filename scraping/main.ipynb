{
 "cells": [
  {
   "cell_type": "code",
   "execution_count": 1,
   "metadata": {},
   "outputs": [],
   "source": [
    "from scraping.functions import *\n",
    "import scraping.functions as functions\n",
    "import importlib\n",
    "def reload_user_defined_functions():\n",
    "    importlib.reload(functions)\n",
    "    from scraping.functions import setup_driver_by_user, get_property_details\n",
    "    globals()['setup_driver_by_user'] = setup_driver_by_user\n",
    "    globals()['get_property_details'] = get_property_details\n"
   ]
  },
  {
   "cell_type": "code",
   "execution_count": 2,
   "metadata": {},
   "outputs": [],
   "source": [
    "url = \"https://www.zameen.com/Property/wapda_town_phase_1_wapda_town_phase_1_-_block_e1_book_house_today_in_wapda_town_phase_1_-_block_e1-51094016-4311-1.html\"\n",
    "driver_path = \"chromedriver.exe\"\n",
    "driver = setup_driver_by_user(url, driver_path)"
   ]
  },
  {
   "cell_type": "code",
   "execution_count": 3,
   "metadata": {},
   "outputs": [],
   "source": [
    "driver.get(url)"
   ]
  },
  {
   "cell_type": "code",
   "execution_count": 4,
   "metadata": {},
   "outputs": [
    {
     "name": "stdout",
     "output_type": "stream",
     "text": [
      "Getting property details...\n"
     ]
    },
    {
     "ename": "NoSuchElementException",
     "evalue": "Message: no such element: Unable to locate element: {\"method\":\"xpath\",\"selector\":\"//*[@id=\"body-wrapper\"]/main/div[4]/div[1]/div[5]/div[1]/div/div[2]/ul/li[1]/span[2]\"}\n  (Session info: chrome=129.0.6668.60); For documentation on this error, please visit: https://www.selenium.dev/documentation/webdriver/troubleshooting/errors#no-such-element-exception\nStacktrace:\n\tGetHandleVerifier [0x00007FF7323FFD65+29557]\n\t(No symbol) [0x00007FF732372200]\n\t(No symbol) [0x00007FF73222B6EA]\n\t(No symbol) [0x00007FF73227FA15]\n\t(No symbol) [0x00007FF73227FC6C]\n\t(No symbol) [0x00007FF7322CBB07]\n\t(No symbol) [0x00007FF7322A753F]\n\t(No symbol) [0x00007FF7322C88A3]\n\t(No symbol) [0x00007FF7322A72A3]\n\t(No symbol) [0x00007FF7322712DF]\n\t(No symbol) [0x00007FF732272451]\n\tGetHandleVerifier [0x00007FF73272DC5D+3363437]\n\tGetHandleVerifier [0x00007FF732779AE7+3674359]\n\tGetHandleVerifier [0x00007FF73276EA8B+3629211]\n\tGetHandleVerifier [0x00007FF7324BFC26+815670]\n\t(No symbol) [0x00007FF73237D6AF]\n\t(No symbol) [0x00007FF732379274]\n\t(No symbol) [0x00007FF732379410]\n\t(No symbol) [0x00007FF7323681BF]\n\tBaseThreadInitThunk [0x00007FFD0D38257D+29]\n\tRtlUserThreadStart [0x00007FFD0D58AF28+40]\n",
     "output_type": "error",
     "traceback": [
      "\u001b[1;31m---------------------------------------------------------------------------\u001b[0m",
      "\u001b[1;31mNoSuchElementException\u001b[0m                    Traceback (most recent call last)",
      "Cell \u001b[1;32mIn[4], line 3\u001b[0m\n\u001b[0;32m      1\u001b[0m \u001b[38;5;66;03m#Get Single Property \u001b[39;00m\n\u001b[0;32m      2\u001b[0m reload_user_defined_functions()\n\u001b[1;32m----> 3\u001b[0m \u001b[38;5;28mproperty\u001b[39m\u001b[38;5;241m=\u001b[39m\u001b[43mget_property_details\u001b[49m\u001b[43m(\u001b[49m\u001b[43mdriver\u001b[49m\u001b[43m)\u001b[49m\n\u001b[0;32m      4\u001b[0m \u001b[38;5;28mprint\u001b[39m(\u001b[38;5;28mproperty\u001b[39m)\n",
      "File \u001b[1;32mc:\\Users\\hp\\Desktop\\RealEstateProject\\user_defined_functions.py:27\u001b[0m, in \u001b[0;36mget_property_details\u001b[1;34m(driver)\u001b[0m\n\u001b[0;32m     25\u001b[0m property_details \u001b[38;5;241m=\u001b[39m {}\n\u001b[0;32m     26\u001b[0m \u001b[38;5;28mprint\u001b[39m(\u001b[38;5;124m\"\u001b[39m\u001b[38;5;124mGetting property details...\u001b[39m\u001b[38;5;124m\"\u001b[39m)\n\u001b[1;32m---> 27\u001b[0m type_of_property \u001b[38;5;241m=\u001b[39m \u001b[43mdriver\u001b[49m\u001b[38;5;241;43m.\u001b[39;49m\u001b[43mfind_element\u001b[49m\u001b[43m(\u001b[49m\u001b[43mBy\u001b[49m\u001b[38;5;241;43m.\u001b[39;49m\u001b[43mXPATH\u001b[49m\u001b[43m,\u001b[49m\u001b[43m \u001b[49m\u001b[38;5;124;43m'\u001b[39;49m\u001b[38;5;124;43m//*[@id=\u001b[39;49m\u001b[38;5;124;43m\"\u001b[39;49m\u001b[38;5;124;43mbody-wrapper\u001b[39;49m\u001b[38;5;124;43m\"\u001b[39;49m\u001b[38;5;124;43m]/main/div[4]/div[1]/div[5]/div[1]/div/div[2]/ul/li[1]/span[2]\u001b[39;49m\u001b[38;5;124;43m'\u001b[39;49m\u001b[43m)\u001b[49m\u001b[38;5;241m.\u001b[39mtext\n\u001b[0;32m     28\u001b[0m area_of_property \u001b[38;5;241m=\u001b[39m driver\u001b[38;5;241m.\u001b[39mfind_element(By\u001b[38;5;241m.\u001b[39mXPATH, \u001b[38;5;124m'\u001b[39m\u001b[38;5;124m//*[@id=\u001b[39m\u001b[38;5;124m\"\u001b[39m\u001b[38;5;124mbody-wrapper\u001b[39m\u001b[38;5;124m\"\u001b[39m\u001b[38;5;124m]/main/div[4]/div[1]/div[5]/div[1]/div/div[2]/ul/li[5]/span[2]/span\u001b[39m\u001b[38;5;124m'\u001b[39m)\u001b[38;5;241m.\u001b[39mtext\n\u001b[0;32m     29\u001b[0m price_of_property \u001b[38;5;241m=\u001b[39m driver\u001b[38;5;241m.\u001b[39mfind_element(By\u001b[38;5;241m.\u001b[39mXPATH, \u001b[38;5;124m'\u001b[39m\u001b[38;5;124m//*[@id=\u001b[39m\u001b[38;5;124m\"\u001b[39m\u001b[38;5;124mbody-wrapper\u001b[39m\u001b[38;5;124m\"\u001b[39m\u001b[38;5;124m]/main/div[4]/div[1]/div[5]/div[1]/div/div[2]/ul/li[2]/span[2]/div\u001b[39m\u001b[38;5;124m'\u001b[39m)\u001b[38;5;241m.\u001b[39mtext\n",
      "File \u001b[1;32mc:\\Users\\hp\\Desktop\\RealEstateProject\\env\\Lib\\site-packages\\selenium\\webdriver\\remote\\webdriver.py:748\u001b[0m, in \u001b[0;36mWebDriver.find_element\u001b[1;34m(self, by, value)\u001b[0m\n\u001b[0;32m    745\u001b[0m     by \u001b[38;5;241m=\u001b[39m By\u001b[38;5;241m.\u001b[39mCSS_SELECTOR\n\u001b[0;32m    746\u001b[0m     value \u001b[38;5;241m=\u001b[39m \u001b[38;5;124mf\u001b[39m\u001b[38;5;124m'\u001b[39m\u001b[38;5;124m[name=\u001b[39m\u001b[38;5;124m\"\u001b[39m\u001b[38;5;132;01m{\u001b[39;00mvalue\u001b[38;5;132;01m}\u001b[39;00m\u001b[38;5;124m\"\u001b[39m\u001b[38;5;124m]\u001b[39m\u001b[38;5;124m'\u001b[39m\n\u001b[1;32m--> 748\u001b[0m \u001b[38;5;28;01mreturn\u001b[39;00m \u001b[38;5;28;43mself\u001b[39;49m\u001b[38;5;241;43m.\u001b[39;49m\u001b[43mexecute\u001b[49m\u001b[43m(\u001b[49m\u001b[43mCommand\u001b[49m\u001b[38;5;241;43m.\u001b[39;49m\u001b[43mFIND_ELEMENT\u001b[49m\u001b[43m,\u001b[49m\u001b[43m \u001b[49m\u001b[43m{\u001b[49m\u001b[38;5;124;43m\"\u001b[39;49m\u001b[38;5;124;43musing\u001b[39;49m\u001b[38;5;124;43m\"\u001b[39;49m\u001b[43m:\u001b[49m\u001b[43m \u001b[49m\u001b[43mby\u001b[49m\u001b[43m,\u001b[49m\u001b[43m \u001b[49m\u001b[38;5;124;43m\"\u001b[39;49m\u001b[38;5;124;43mvalue\u001b[39;49m\u001b[38;5;124;43m\"\u001b[39;49m\u001b[43m:\u001b[49m\u001b[43m \u001b[49m\u001b[43mvalue\u001b[49m\u001b[43m}\u001b[49m\u001b[43m)\u001b[49m[\u001b[38;5;124m\"\u001b[39m\u001b[38;5;124mvalue\u001b[39m\u001b[38;5;124m\"\u001b[39m]\n",
      "File \u001b[1;32mc:\\Users\\hp\\Desktop\\RealEstateProject\\env\\Lib\\site-packages\\selenium\\webdriver\\remote\\webdriver.py:354\u001b[0m, in \u001b[0;36mWebDriver.execute\u001b[1;34m(self, driver_command, params)\u001b[0m\n\u001b[0;32m    352\u001b[0m response \u001b[38;5;241m=\u001b[39m \u001b[38;5;28mself\u001b[39m\u001b[38;5;241m.\u001b[39mcommand_executor\u001b[38;5;241m.\u001b[39mexecute(driver_command, params)\n\u001b[0;32m    353\u001b[0m \u001b[38;5;28;01mif\u001b[39;00m response:\n\u001b[1;32m--> 354\u001b[0m     \u001b[38;5;28;43mself\u001b[39;49m\u001b[38;5;241;43m.\u001b[39;49m\u001b[43merror_handler\u001b[49m\u001b[38;5;241;43m.\u001b[39;49m\u001b[43mcheck_response\u001b[49m\u001b[43m(\u001b[49m\u001b[43mresponse\u001b[49m\u001b[43m)\u001b[49m\n\u001b[0;32m    355\u001b[0m     response[\u001b[38;5;124m\"\u001b[39m\u001b[38;5;124mvalue\u001b[39m\u001b[38;5;124m\"\u001b[39m] \u001b[38;5;241m=\u001b[39m \u001b[38;5;28mself\u001b[39m\u001b[38;5;241m.\u001b[39m_unwrap_value(response\u001b[38;5;241m.\u001b[39mget(\u001b[38;5;124m\"\u001b[39m\u001b[38;5;124mvalue\u001b[39m\u001b[38;5;124m\"\u001b[39m, \u001b[38;5;28;01mNone\u001b[39;00m))\n\u001b[0;32m    356\u001b[0m     \u001b[38;5;28;01mreturn\u001b[39;00m response\n",
      "File \u001b[1;32mc:\\Users\\hp\\Desktop\\RealEstateProject\\env\\Lib\\site-packages\\selenium\\webdriver\\remote\\errorhandler.py:229\u001b[0m, in \u001b[0;36mErrorHandler.check_response\u001b[1;34m(self, response)\u001b[0m\n\u001b[0;32m    227\u001b[0m         alert_text \u001b[38;5;241m=\u001b[39m value[\u001b[38;5;124m\"\u001b[39m\u001b[38;5;124malert\u001b[39m\u001b[38;5;124m\"\u001b[39m]\u001b[38;5;241m.\u001b[39mget(\u001b[38;5;124m\"\u001b[39m\u001b[38;5;124mtext\u001b[39m\u001b[38;5;124m\"\u001b[39m)\n\u001b[0;32m    228\u001b[0m     \u001b[38;5;28;01mraise\u001b[39;00m exception_class(message, screen, stacktrace, alert_text)  \u001b[38;5;66;03m# type: ignore[call-arg]  # mypy is not smart enough here\u001b[39;00m\n\u001b[1;32m--> 229\u001b[0m \u001b[38;5;28;01mraise\u001b[39;00m exception_class(message, screen, stacktrace)\n",
      "\u001b[1;31mNoSuchElementException\u001b[0m: Message: no such element: Unable to locate element: {\"method\":\"xpath\",\"selector\":\"//*[@id=\"body-wrapper\"]/main/div[4]/div[1]/div[5]/div[1]/div/div[2]/ul/li[1]/span[2]\"}\n  (Session info: chrome=129.0.6668.60); For documentation on this error, please visit: https://www.selenium.dev/documentation/webdriver/troubleshooting/errors#no-such-element-exception\nStacktrace:\n\tGetHandleVerifier [0x00007FF7323FFD65+29557]\n\t(No symbol) [0x00007FF732372200]\n\t(No symbol) [0x00007FF73222B6EA]\n\t(No symbol) [0x00007FF73227FA15]\n\t(No symbol) [0x00007FF73227FC6C]\n\t(No symbol) [0x00007FF7322CBB07]\n\t(No symbol) [0x00007FF7322A753F]\n\t(No symbol) [0x00007FF7322C88A3]\n\t(No symbol) [0x00007FF7322A72A3]\n\t(No symbol) [0x00007FF7322712DF]\n\t(No symbol) [0x00007FF732272451]\n\tGetHandleVerifier [0x00007FF73272DC5D+3363437]\n\tGetHandleVerifier [0x00007FF732779AE7+3674359]\n\tGetHandleVerifier [0x00007FF73276EA8B+3629211]\n\tGetHandleVerifier [0x00007FF7324BFC26+815670]\n\t(No symbol) [0x00007FF73237D6AF]\n\t(No symbol) [0x00007FF732379274]\n\t(No symbol) [0x00007FF732379410]\n\t(No symbol) [0x00007FF7323681BF]\n\tBaseThreadInitThunk [0x00007FFD0D38257D+29]\n\tRtlUserThreadStart [0x00007FFD0D58AF28+40]\n"
     ]
    }
   ],
   "source": []
  }
 ],
 "metadata": {
  "kernelspec": {
   "display_name": "env",
   "language": "python",
   "name": "python3"
  },
  "language_info": {
   "codemirror_mode": {
    "name": "ipython",
    "version": 3
   },
   "file_extension": ".py",
   "mimetype": "text/x-python",
   "name": "python",
   "nbconvert_exporter": "python",
   "pygments_lexer": "ipython3",
   "version": "3.12.6"
  }
 },
 "nbformat": 4,
 "nbformat_minor": 2
}
